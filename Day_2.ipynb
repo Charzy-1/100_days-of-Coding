{
 "cells": [
  {
   "cell_type": "code",
   "execution_count": 1,
   "id": "3208ce10",
   "metadata": {},
   "outputs": [],
   "source": [
    "indx = 'hello'"
   ]
  },
  {
   "cell_type": "code",
   "execution_count": 2,
   "id": "46cb3c32",
   "metadata": {},
   "outputs": [
    {
     "data": {
      "text/plain": [
       "'o'"
      ]
     },
     "execution_count": 2,
     "metadata": {},
     "output_type": "execute_result"
    }
   ],
   "source": [
    "indx[-1]"
   ]
  },
  {
   "cell_type": "markdown",
   "id": "e5601a31",
   "metadata": {},
   "source": [
    "### Write a program that adds the digits in a two digit number. e.g. if the imput was 65 then the output will be 6+5 = 11"
   ]
  },
  {
   "cell_type": "code",
   "execution_count": 3,
   "id": "511bf9ce",
   "metadata": {},
   "outputs": [
    {
     "name": "stdout",
     "output_type": "stream",
     "text": [
      "type a two digit number: 54\n"
     ]
    },
    {
     "data": {
      "text/plain": [
       "9"
      ]
     },
     "execution_count": 3,
     "metadata": {},
     "output_type": "execute_result"
    }
   ],
   "source": [
    "two_digit_number = input('type a two digit number: ')\n",
    "sum_digits = int(two_digit_number[0]) + int(two_digit_number[1])\n",
    "sum_digits"
   ]
  },
  {
   "cell_type": "markdown",
   "id": "22be83b6",
   "metadata": {},
   "source": [
    "### PEMDASLR is a code like BODMAS in mathmatics.. It means Parenthesis, exponential, multiplication, division, addition, subtration from left to right."
   ]
  },
  {
   "cell_type": "code",
   "execution_count": 4,
   "id": "ab34a32c",
   "metadata": {},
   "outputs": [],
   "source": [
    "# Giving (3 * 3 + 3 / 3 - 3) answer gives 7.0. The challege is to get rearange it, and using PEMDAS  to calculate and get 3.0 output"
   ]
  },
  {
   "cell_type": "code",
   "execution_count": 5,
   "id": "d99b385c",
   "metadata": {},
   "outputs": [
    {
     "data": {
      "text/plain": [
       "3.0"
      ]
     },
     "execution_count": 5,
     "metadata": {},
     "output_type": "execute_result"
    }
   ],
   "source": [
    "3 * (3 + 3) / 3 - 3"
   ]
  },
  {
   "cell_type": "code",
   "execution_count": 6,
   "id": "394cc94b",
   "metadata": {},
   "outputs": [],
   "source": [
    "# Calculating the body mass index with the formula BMI = weight/height2 leaving your answer as whole number"
   ]
  },
  {
   "cell_type": "code",
   "execution_count": 9,
   "id": "1b40eba9",
   "metadata": {},
   "outputs": [
    {
     "name": "stdout",
     "output_type": "stream",
     "text": [
      "Enter your weight in kg: 75\n",
      "Enter your height in m: 5.45\n"
     ]
    }
   ],
   "source": [
    "weight = input('Enter your weight in kg: ')\n",
    "height  = input('Enter your height in m: ')\n"
   ]
  },
  {
   "cell_type": "code",
   "execution_count": 10,
   "id": "f14a4273",
   "metadata": {},
   "outputs": [],
   "source": [
    "BMI = int(weight)/(float(height)**2)"
   ]
  },
  {
   "cell_type": "code",
   "execution_count": 13,
   "id": "f88858b9",
   "metadata": {},
   "outputs": [
    {
     "data": {
      "text/plain": [
       "2"
      ]
     },
     "execution_count": 13,
     "metadata": {},
     "output_type": "execute_result"
    }
   ],
   "source": [
    "int(BMI)"
   ]
  },
  {
   "cell_type": "markdown",
   "id": "341230cc",
   "metadata": {},
   "source": [
    "### Create a program using maths and f-string that tells us how many days, weeks, and months left for a user to live if entered his present age"
   ]
  },
  {
   "cell_type": "code",
   "execution_count": 72,
   "id": "f35e87ec",
   "metadata": {},
   "outputs": [
    {
     "name": "stdout",
     "output_type": "stream",
     "text": [
      "Please enter your age: 67\n"
     ]
    }
   ],
   "source": [
    "current_age = int(input('Please enter your age: '))"
   ]
  },
  {
   "cell_type": "code",
   "execution_count": 73,
   "id": "79f71547",
   "metadata": {},
   "outputs": [],
   "source": [
    "days_in_90Years = 365 * 90 \n",
    "weeks_in_90Years = 52 * 90\n",
    "months_in_90Years = 12 * 90\n"
   ]
  },
  {
   "cell_type": "code",
   "execution_count": 74,
   "id": "7cea8007",
   "metadata": {},
   "outputs": [],
   "source": [
    "days_left = days_in_90Years - current_age * 365\n",
    "weeks_left = weeks_in_90Years - current_age * 52\n",
    "months_left = months_in_90Years - current_age * 12"
   ]
  },
  {
   "cell_type": "code",
   "execution_count": 75,
   "id": "53d1651a",
   "metadata": {},
   "outputs": [
    {
     "name": "stdout",
     "output_type": "stream",
     "text": [
      "you have 8395 days, 1196 weeks and 276 months left to live\n"
     ]
    }
   ],
   "source": [
    "print(f'you have {days_left} days, {weeks_left} weeks and {months_left} months left to live')"
   ]
  },
  {
   "cell_type": "markdown",
   "id": "d3a05fdd",
   "metadata": {},
   "source": [
    "### Tips calculator project\n",
    "* Run a program to build a calculator that calculates the percentage to be shared among friends for a bill raised in a sitout\n",
    "* round the number off to two decimal place"
   ]
  },
  {
   "cell_type": "code",
   "execution_count": 142,
   "id": "7ca78c92",
   "metadata": {
    "scrolled": true
   },
   "outputs": [
    {
     "name": "stdout",
     "output_type": "stream",
     "text": [
      "Welcome to the tip calculator.\n",
      "what was the total bill? $124.56\n",
      "what percentage tip would you like to give? 10, 12, or 15? 12\n",
      "How many people to split the bill? 7\n",
      "Each person should pay $19.93\n"
     ]
    }
   ],
   "source": [
    "print('Welcome to the tip calculator.')\n",
    "total_bill = float(input('what was the total bill? $'))\n",
    "percent_tip = int(input('what percentage tip would you like to give? 10, 12, or 15? '))\n",
    "num_to_split_the_bill = float(input('How many people to split the bill? '))\n",
    "percent_tips = percent_tip/100 * total_bill + total_bill\n",
    "result = percent_tips/num_to_split_the_bill\n",
    "statement = print(f'Each person should pay ${round(result, 2)}')\n"
   ]
  },
  {
   "cell_type": "code",
   "execution_count": 1,
   "id": "f40df5e9",
   "metadata": {},
   "outputs": [
    {
     "name": "stdout",
     "output_type": "stream",
     "text": [
      "Project ended\n"
     ]
    }
   ],
   "source": [
    "print('Project ended')"
   ]
  },
  {
   "cell_type": "code",
   "execution_count": null,
   "id": "4e1357f7",
   "metadata": {},
   "outputs": [],
   "source": []
  }
 ],
 "metadata": {
  "kernelspec": {
   "display_name": "Python 3",
   "language": "python",
   "name": "python3"
  },
  "language_info": {
   "codemirror_mode": {
    "name": "ipython",
    "version": 3
   },
   "file_extension": ".py",
   "mimetype": "text/x-python",
   "name": "python",
   "nbconvert_exporter": "python",
   "pygments_lexer": "ipython3",
   "version": "3.8.8"
  }
 },
 "nbformat": 4,
 "nbformat_minor": 5
}
