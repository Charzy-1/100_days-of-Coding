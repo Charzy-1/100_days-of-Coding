{
 "cells": [
  {
   "cell_type": "code",
   "execution_count": 1,
   "id": "dae6f0af",
   "metadata": {},
   "outputs": [
    {
     "data": {
      "text/plain": [
       "'Python it Funtion\\nthe function is declared like this:'"
      ]
     },
     "execution_count": 1,
     "metadata": {},
     "output_type": "execute_result"
    }
   ],
   "source": [
    "('Python it Funtion\\nthe function is declared like this:')"
   ]
  },
  {
   "cell_type": "code",
   "execution_count": 2,
   "id": "808faa10",
   "metadata": {},
   "outputs": [
    {
     "name": "stdout",
     "output_type": "stream",
     "text": [
      "Day 1 - Python Print Function\n",
      "the function is dexlared like this:\n",
      "print(\"what to print\")\n"
     ]
    }
   ],
   "source": [
    "print('Day 1 - Python Print Function')\n",
    "print('the function is dexlared like this:')\n",
    "print('print(\"what to print\")')"
   ]
  },
  {
   "cell_type": "markdown",
   "id": "50c3cab4",
   "metadata": {},
   "source": [
    "### Using the break \\n command to put an end to a string "
   ]
  },
  {
   "cell_type": "code",
   "execution_count": 3,
   "id": "6a5ebb9b",
   "metadata": {},
   "outputs": [
    {
     "name": "stdout",
     "output_type": "stream",
     "text": [
      "Day 1 - Python Print Function\n",
      "the function is declared like this:\n",
      "print(\"what to print\")\n"
     ]
    }
   ],
   "source": [
    "print('Day 1 - Python Print Function\\nthe function is declared like this:\\nprint(\"what to print\")')"
   ]
  },
  {
   "cell_type": "markdown",
   "id": "85e82e94",
   "metadata": {},
   "source": [
    "### Combining a string or string concatenation"
   ]
  },
  {
   "cell_type": "code",
   "execution_count": 4,
   "id": "260cb9b7",
   "metadata": {},
   "outputs": [
    {
     "data": {
      "text/plain": [
       "'Hello Charzy'"
      ]
     },
     "execution_count": 4,
     "metadata": {},
     "output_type": "execute_result"
    }
   ],
   "source": [
    "'Hello' + ' ' + 'Charzy'"
   ]
  },
  {
   "cell_type": "code",
   "execution_count": 5,
   "id": "6bd65bba",
   "metadata": {},
   "outputs": [
    {
     "data": {
      "text/plain": [
       "'Hello  Charzy'"
      ]
     },
     "execution_count": 5,
     "metadata": {},
     "output_type": "execute_result"
    }
   ],
   "source": [
    "'Hello ' + ' Charzy'"
   ]
  },
  {
   "cell_type": "markdown",
   "id": "c7317667",
   "metadata": {},
   "source": [
    "### Write a progam that prints the number of characters in a user's name\n",
    "#### This is in a way to let us know how to calculate the lenght of a string"
   ]
  },
  {
   "cell_type": "code",
   "execution_count": 6,
   "id": "05c5eaeb",
   "metadata": {},
   "outputs": [
    {
     "name": "stdout",
     "output_type": "stream",
     "text": [
      "Enter your name: Chazylites\n"
     ]
    }
   ],
   "source": [
    "name = input('Enter your name: ')"
   ]
  },
  {
   "cell_type": "code",
   "execution_count": 7,
   "id": "f88447c1",
   "metadata": {},
   "outputs": [
    {
     "data": {
      "text/plain": [
       "10"
      ]
     },
     "execution_count": 7,
     "metadata": {},
     "output_type": "execute_result"
    }
   ],
   "source": [
    "num_in_names = len(name)\n",
    "num_in_names"
   ]
  },
  {
   "cell_type": "code",
   "execution_count": 8,
   "id": "d581e948",
   "metadata": {},
   "outputs": [
    {
     "name": "stdout",
     "output_type": "stream",
     "text": [
      "Enter the value of a: 6\n",
      "Enter the value of b: 19\n"
     ]
    }
   ],
   "source": [
    "a = input('Enter the value of a: ')\n",
    "b = input('Enter the value of b: ')"
   ]
  },
  {
   "cell_type": "code",
   "execution_count": 9,
   "id": "d2755baf",
   "metadata": {},
   "outputs": [],
   "source": [
    "c = a\n",
    "a = b\n",
    "b = c\n"
   ]
  },
  {
   "cell_type": "code",
   "execution_count": 10,
   "id": "19aff635",
   "metadata": {},
   "outputs": [
    {
     "name": "stdout",
     "output_type": "stream",
     "text": [
      "a = 19\n",
      "b = 6\n"
     ]
    }
   ],
   "source": [
    "print('a = ' + a)\n",
    "print('b = ' + b)\n"
   ]
  },
  {
   "cell_type": "code",
   "execution_count": 11,
   "id": "17a493d2",
   "metadata": {},
   "outputs": [
    {
     "data": {
      "text/plain": [
       "str"
      ]
     },
     "execution_count": 11,
     "metadata": {},
     "output_type": "execute_result"
    }
   ],
   "source": [
    "type(b)"
   ]
  },
  {
   "cell_type": "markdown",
   "id": "67da715c",
   "metadata": {},
   "source": [
    "### Brand name Generator Project\n",
    "#### Task\n",
    "* Create a greeting for your program\n",
    "* Ask the user for the city they grew up in\n",
    "* Ask the user for the name of his or her pet\n",
    "* combine the name of their city and pet and show them their brand name"
   ]
  },
  {
   "cell_type": "code",
   "execution_count": 12,
   "id": "96a23a0c",
   "metadata": {},
   "outputs": [
    {
     "name": "stdout",
     "output_type": "stream",
     "text": [
      "Hello! it's brand name gerator project\n",
      "Please enter the city you grew up: Charzy_\n",
      "Please enter your pet name: Global_Services\n",
      "Your brand name is: Charzy_Global_Services\n"
     ]
    }
   ],
   "source": [
    "print(\"Hello! it's brand name gerator project\")\n",
    "Your_city = input('Please enter the city you grew up: ')\n",
    "pet_name = input('Please enter your pet name: ')\n",
    "print('Your brand name is: ' + Your_city + pet_name)"
   ]
  },
  {
   "cell_type": "code",
   "execution_count": null,
   "id": "6c162367",
   "metadata": {},
   "outputs": [],
   "source": []
  }
 ],
 "metadata": {
  "kernelspec": {
   "display_name": "Python 3",
   "language": "python",
   "name": "python3"
  },
  "language_info": {
   "codemirror_mode": {
    "name": "ipython",
    "version": 3
   },
   "file_extension": ".py",
   "mimetype": "text/x-python",
   "name": "python",
   "nbconvert_exporter": "python",
   "pygments_lexer": "ipython3",
   "version": "3.8.8"
  }
 },
 "nbformat": 4,
 "nbformat_minor": 5
}
