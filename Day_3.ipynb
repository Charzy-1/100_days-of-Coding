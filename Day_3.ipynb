{
 "cells": [
  {
   "cell_type": "markdown",
   "id": "3a8f7608",
   "metadata": {},
   "source": [
    "### Exercise 1\n",
    "* Write a program that works out if a given number is an odd or even number"
   ]
  },
  {
   "cell_type": "code",
   "execution_count": 1,
   "id": "7cbdf950",
   "metadata": {},
   "outputs": [
    {
     "name": "stdout",
     "output_type": "stream",
     "text": [
      "Enter any number: 58\n",
      "This is an even number\n"
     ]
    }
   ],
   "source": [
    "number = int(input('Enter any number: '))\n",
    "\n",
    "if number%2 == 0:\n",
    "    print('This is an even number')\n",
    "else:\n",
    "    print('This is an odd number')"
   ]
  },
  {
   "cell_type": "markdown",
   "id": "38da94a2",
   "metadata": {},
   "source": [
    "### Exercise 2\n",
    "#### Write a program that interpretes the body mass index (BMI) based on a user's weight and heigt\n",
    "##### It should tell them the interpretation of their BMI based on their BMI value\n",
    "\n",
    "* under 18.5 they are underweight\n",
    "* above 18.5 but below 25 they have a normal weight\n",
    "* over 25 but below 30 they are overweight\n",
    "* over 30 but below 35 they are obese\n",
    "* above 35 they are clinically obese"
   ]
  },
  {
   "cell_type": "code",
   "execution_count": 2,
   "id": "bec1fdb7",
   "metadata": {},
   "outputs": [
    {
     "name": "stdout",
     "output_type": "stream",
     "text": [
      "Please enter your height: 6.23\n",
      "Please enter your weight: 85.54\n"
     ]
    }
   ],
   "source": [
    "# BMI formula = weight/height ** 2\n",
    "\n",
    "height = float(input('Please enter your height: '))\n",
    "weight = float(input('Please enter your weight: '))\n",
    "\n",
    "BMI = round(weight/height**2)"
   ]
  },
  {
   "cell_type": "code",
   "execution_count": 3,
   "id": "492e4dee",
   "metadata": {},
   "outputs": [
    {
     "name": "stdout",
     "output_type": "stream",
     "text": [
      "your bmi is 2, you are underweight\n"
     ]
    }
   ],
   "source": [
    "if BMI <= 10.5:\n",
    "    print(f'your bmi is {BMI}, you are underweight')\n",
    "elif BMI < 15:\n",
    "    print(f'your bmi is {BMI}, your weight is normal')\n",
    "elif BMI < 18.5:\n",
    "    print(f'yourbmi is {BMI}, you are overweight')\n",
    "elif BMI < 23:\n",
    "    print(f'your bmi is {BMI}, you are obese')\n",
    "else:\n",
    "    print('They are clinically obese')"
   ]
  },
  {
   "cell_type": "code",
   "execution_count": null,
   "id": "c661ee8d",
   "metadata": {},
   "outputs": [],
   "source": []
  },
  {
   "cell_type": "markdown",
   "id": "2c809c9d",
   "metadata": {},
   "source": [
    "### Exercise 3\n",
    "### Write a program that works out wether a given a year is a leap year\n",
    "#### Instructions on how it works\n",
    "* If divisible by 4 without remainder is a leap year\n",
    "* but if divisble by 100 and 400 without remainder, it is no longer a leap year"
   ]
  },
  {
   "cell_type": "code",
   "execution_count": 4,
   "id": "97a8bc58",
   "metadata": {},
   "outputs": [
    {
     "name": "stdout",
     "output_type": "stream",
     "text": [
      "Enter any year:2025\n"
     ]
    }
   ],
   "source": [
    "year = int(input('Enter any year:'))\n"
   ]
  },
  {
   "cell_type": "code",
   "execution_count": 5,
   "id": "dbc94163",
   "metadata": {},
   "outputs": [
    {
     "name": "stdout",
     "output_type": "stream",
     "text": [
      "2025, is not a leap year because not divisible by 4\n"
     ]
    }
   ],
   "source": [
    "if year % 4 == 0:\n",
    "    if year % 100 == 0:\n",
    "        if year % 400 == 0:\n",
    "            print(f'{year}, is a leap year')\n",
    "        else:\n",
    "            print(f'{year}, is not a leap year')\n",
    "    else:\n",
    "        print(f'{year}, is a leap year')\n",
    "else:\n",
    "    print(f'{year}, is not a leap year because not divisible by 4')"
   ]
  },
  {
   "cell_type": "markdown",
   "id": "897bc380",
   "metadata": {},
   "source": [
    "### Exercise 4\n",
    "#### Build an automatic Pizza order Program\n",
    "* Calculate the user's final bill with respect to their respnse\n"
   ]
  },
  {
   "cell_type": "code",
   "execution_count": 6,
   "id": "0a734cd9",
   "metadata": {},
   "outputs": [
    {
     "name": "stdout",
     "output_type": "stream",
     "text": [
      "Welcome to pizza deliveries\n",
      "What size of pizza do you want? S, M, or L: M\n",
      "Do you want pepperoni? Y or N: Y\n",
      "with extra cheese? Y or N: N\n",
      "medium sized pizza wanted\n",
      "you are to pay the sum of $18\n"
     ]
    }
   ],
   "source": [
    "print('Welcome to pizza deliveries')\n",
    "size = input('What size of pizza do you want? S, M, or L: ')\n",
    "add_pepperoni = input('Do you want pepperoni? Y or N: ')\n",
    "extra_cheese = input('with extra cheese? Y or N: ')\n",
    "\n",
    "small_pizza = 10\n",
    "medium_pizza = 15\n",
    "large_pizza = 20\n",
    "\n",
    "# small_pizza_pepperoni = 2\n",
    "# medium_or_large_pizza_pepperoni = 3\n",
    "# all_sizes_cheese = 1\n",
    "\n",
    "bill = 0\n",
    "if size == 'S':\n",
    "    print('small size pizza wanted')\n",
    "    bill += 10\n",
    "elif size == 'M':\n",
    "    print('medium sized pizza wanted')\n",
    "    bill += 15\n",
    "else:\n",
    "    print('Large sized pizza wanted')\n",
    "    bill += 20\n",
    "\n",
    "if add_pepperoni == 'Y':\n",
    "    if size == 'S':\n",
    "        bill += 2\n",
    "    elif size == 'M':\n",
    "        bill += 3\n",
    "    else:\n",
    "        bill += 3\n",
    "# else:\n",
    "#     print('your bill remains the same')\n",
    "\n",
    "if extra_cheese == 'Y':\n",
    "    bill += 1\n",
    "\n",
    "print(f'you are to pay the sum of ${bill}')\n",
    "    "
   ]
  },
  {
   "cell_type": "markdown",
   "id": "a5a13139",
   "metadata": {},
   "source": [
    "### Exercise 5\n",
    "#### Love Score caluculator challenge\n",
    "* Write a program using your name and that of any opposite sex or rather your girl friend to check for compatibility\n",
    "* Check the number of times the word TRUE and LOVE appears on your names, then combine the digits together to get the score\n",
    "* Present a decision statement derived from the scores"
   ]
  },
  {
   "cell_type": "code",
   "execution_count": 30,
   "id": "f05dab3b",
   "metadata": {},
   "outputs": [
    {
     "name": "stdout",
     "output_type": "stream",
     "text": [
      "Welcome to love calculator\n",
      "Please enter your name: \n",
      "charles adikankwu\n",
      "Please enter your name: \n",
      "scholar oseme\n",
      "T occurs 0 times\n",
      "R occurs 2 times\n",
      "U occurs 1 times\n",
      "E occurs 3 times\n",
      "Total = 6\n",
      "L occurs 2 times\n",
      "O occurs 2 times\n",
      "V occurs 0 times\n",
      "E occurs 3 times\n",
      "Total = 7\n",
      "Your relationship needs exta care\n"
     ]
    }
   ],
   "source": [
    "print('Welcome to love calculator')\n",
    "\n",
    "male_name = input('Please enter your name: \\n')\n",
    "female_name = input('Please enter your name: \\n')\n",
    "our_names = male_name + female_name\n",
    "\n",
    "T = our_names.upper().count('T')\n",
    "print(f'T occurs {T} times')\n",
    "R = our_names.upper().count('R')\n",
    "print(f'R occurs {R} times')\n",
    "U = our_names.upper().count('U')\n",
    "print(f'U occurs {U} times')\n",
    "E = our_names.upper().count('E')\n",
    "print(f'E occurs {E} times')\n",
    "\n",
    "true = T+R+U+E\n",
    "\n",
    "print(f'Total = {true}')\n",
    "\n",
    "L = our_names.upper().count('L')\n",
    "print(f'L occurs {L} times')\n",
    "O = our_names.upper().count('O')\n",
    "print(f'O occurs {O} times')\n",
    "V = our_names.upper().count('V')\n",
    "print(f'V occurs {V} times')\n",
    "E = our_names.upper().count('E')\n",
    "print(f'E occurs {E} times')\n",
    "\n",
    "love = L+O+V+E\n",
    "\n",
    "print(f'Total = {love}')\n",
    "\n",
    "love_score = str(true) + str(love)\n",
    "\n",
    "if love_score < '10' or love_score > '90':\n",
    "    print(f'Your love_score is {love_score}, you go together like that')\n",
    "elif love_score >= '40' and love_score < '50':\n",
    "    print(f'Your score is {love_score}, you are alright together')\n",
    "else:\n",
    "    print('Your relationship needs exta care')\n"
   ]
  },
  {
   "cell_type": "markdown",
   "id": "a2737b2e",
   "metadata": {},
   "source": [
    "### Day 3 Project\n",
    "#### Treasure Island"
   ]
  },
  {
   "cell_type": "code",
   "execution_count": 82,
   "id": "24c14e76",
   "metadata": {},
   "outputs": [
    {
     "name": "stdout",
     "output_type": "stream",
     "text": [
      "Welcome to Treasure Island.\n",
      "Your mission is to find the treasure\n",
      "Please choose your direction by entering left or right: left\n",
      "Do you wish to wait or swim? Please type swim or wait: wait\n",
      "Please enter any of colours of door you wish to pass Red, Blue or Yellow: red\n"
     ]
    }
   ],
   "source": [
    "print('Welcome to Treasure Island.\\nYour mission is to find the treasure')\n",
    "\n",
    "where_to_go = input('Please choose your direction by entering left or right: ').title()\n",
    "take_action = input('Do you wish to wait or swim? Please type swim or wait: ').title()\n",
    "door_colour = input('Please enter any of colours of door you wish to pass Red, Blue or Yellow: ').title()"
   ]
  },
  {
   "cell_type": "code",
   "execution_count": 83,
   "id": "589371af",
   "metadata": {},
   "outputs": [
    {
     "name": "stdout",
     "output_type": "stream",
     "text": [
      "You lost!\n",
      "Wrong choice of colour\n",
      "Game is finally over\n"
     ]
    }
   ],
   "source": [
    "if where_to_go == 'Left':\n",
    "    if take_action == 'Wait':\n",
    "        if door_colour == 'Yellow':\n",
    "            print('You Won!!!')\n",
    "        elif door_colour == 'Blue' or door_colour == 'Red':\n",
    "            print('You lost!\\nWrong choice of colour\\nGame is finally over')\n",
    "        else:\n",
    "            ('You entered a totally different colour from the expected')\n",
    "    elif take_action == 'Swim':\n",
    "        print('Game over.\\nNo swimming')   \n",
    "    else:\n",
    "        print('Error: You did not enter the right action required')\n",
    "elif where_to_go == 'Right':\n",
    "    print('Game over')\n",
    "else:\n",
    "    print('You entered what is not expected')\n",
    "        "
   ]
  },
  {
   "cell_type": "code",
   "execution_count": null,
   "id": "b03d0e3b",
   "metadata": {},
   "outputs": [],
   "source": []
  }
 ],
 "metadata": {
  "kernelspec": {
   "display_name": "Python 3",
   "language": "python",
   "name": "python3"
  },
  "language_info": {
   "codemirror_mode": {
    "name": "ipython",
    "version": 3
   },
   "file_extension": ".py",
   "mimetype": "text/x-python",
   "name": "python",
   "nbconvert_exporter": "python",
   "pygments_lexer": "ipython3",
   "version": "3.8.8"
  }
 },
 "nbformat": 4,
 "nbformat_minor": 5
}
