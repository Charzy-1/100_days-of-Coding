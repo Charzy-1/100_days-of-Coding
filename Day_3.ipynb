{
 "cells": [
  {
   "cell_type": "markdown",
   "id": "3a8f7608",
   "metadata": {},
   "source": [
    "### Exercise 1\n",
    "* Write a program that works out if a given number is an odd or even number"
   ]
  },
  {
   "cell_type": "code",
   "execution_count": 1,
   "id": "7cbdf950",
   "metadata": {},
   "outputs": [
    {
     "name": "stdout",
     "output_type": "stream",
     "text": [
      "Enter any number: 17\n",
      "This is an odd number\n"
     ]
    }
   ],
   "source": [
    "number = int(input('Enter any number: '))\n",
    "\n",
    "if number%2 == 0:\n",
    "    print('This is an even number')\n",
    "else:\n",
    "    print('This is an odd number')"
   ]
  },
  {
   "cell_type": "markdown",
   "id": "38da94a2",
   "metadata": {},
   "source": [
    "### Exercise 2\n",
    "#### Write a program that interpretes the body mass index (BMI) based on a user's weight and heigt\n",
    "##### It should tell them the interpretation of their BMI based on their BMI value\n",
    "\n",
    "* under 18.5 they are underweight\n",
    "* above 18.5 but below 25 they have a normal weight\n",
    "* over 25 but below 30 they are overweight\n",
    "* over 30 but below 35 they are obese\n",
    "* above 35 they are clinically obese"
   ]
  },
  {
   "cell_type": "code",
   "execution_count": 2,
   "id": "bec1fdb7",
   "metadata": {},
   "outputs": [
    {
     "name": "stdout",
     "output_type": "stream",
     "text": [
      "Please enter your height: 7\n",
      "Please enter your weight: 184\n"
     ]
    }
   ],
   "source": [
    "# BMI formula = weight/height ** 2\n",
    "\n",
    "height = float(input('Please enter your height: '))\n",
    "weight = float(input('Please enter your weight: '))\n",
    "\n",
    "BMI = round(weight/height**2)"
   ]
  },
  {
   "cell_type": "code",
   "execution_count": 3,
   "id": "492e4dee",
   "metadata": {},
   "outputs": [
    {
     "name": "stdout",
     "output_type": "stream",
     "text": [
      "your bmi is 4, you are underweight\n"
     ]
    }
   ],
   "source": [
    "if BMI <= 10.5:\n",
    "    print(f'your bmi is {BMI}, you are underweight')\n",
    "elif BMI < 15:\n",
    "    print(f'your bmi is {BMI}, your weight is normal')\n",
    "elif BMI < 18.5:\n",
    "    print(f'yourbmi is {BMI}, you are overweight')\n",
    "elif BMI < 23:\n",
    "    print(f'your bmi is {BMI}, you are obese')\n",
    "else:\n",
    "    print('They are clinically obese')"
   ]
  },
  {
   "cell_type": "code",
   "execution_count": null,
   "id": "c661ee8d",
   "metadata": {},
   "outputs": [],
   "source": []
  },
  {
   "cell_type": "markdown",
   "id": "2c809c9d",
   "metadata": {},
   "source": [
    "### Exercise 3\n",
    "### Write a program that works out wether a given a year is a leap year\n",
    "#### Instructions on how it works\n",
    "* If divisible by 4 without remainder is a leap year\n",
    "* but if divisble by 100 and 400 without remainder, it is no longer a leap year"
   ]
  },
  {
   "cell_type": "code",
   "execution_count": 4,
   "id": "97a8bc58",
   "metadata": {},
   "outputs": [
    {
     "name": "stdout",
     "output_type": "stream",
     "text": [
      "Enter any year:2025\n"
     ]
    }
   ],
   "source": [
    "year = int(input('Enter any year:'))\n"
   ]
  },
  {
   "cell_type": "code",
   "execution_count": 5,
   "id": "dbc94163",
   "metadata": {},
   "outputs": [
    {
     "name": "stdout",
     "output_type": "stream",
     "text": [
      "2025, is not a leap year because not divisible by 4\n"
     ]
    }
   ],
   "source": [
    "if year % 4 == 0:\n",
    "    if year % 100 == 0:\n",
    "        if year % 400 == 0:\n",
    "            print(f'{year}, is a leap year')\n",
    "        else:\n",
    "            print(f'{year}, is not a leap year')\n",
    "    else:\n",
    "        print(f'{year}, is a leap year')\n",
    "else:\n",
    "    print(f'{year}, is not a leap year because not divisible by 4')"
   ]
  },
  {
   "cell_type": "markdown",
   "id": "897bc380",
   "metadata": {},
   "source": [
    "### Exercise 4\n",
    "#### Build an automatic Pizza order Program\n",
    "* Calculate the user's final bill with respect to their respnse\n"
   ]
  },
  {
   "cell_type": "code",
   "execution_count": 60,
   "id": "fcbedae9",
   "metadata": {},
   "outputs": [
    {
     "name": "stdout",
     "output_type": "stream",
     "text": [
      "Welcome to Pizza order program!\n",
      "What size of pizza do you want? S, M, or L: L\n",
      "Do you want pepperoni? Y or N: Y\n",
      "Do you want cheese? Y or N: Y\n"
     ]
    }
   ],
   "source": [
    "print('Welcome to Pizza order program!')\n",
    "\n",
    "small_pizza = 10\n",
    "medium_pizza = 15\n",
    "large_pizza = 20\n",
    "\n",
    "small_size_pepperoni = 2\n",
    "medium_size_pepperoni = 3\n",
    "\n",
    "cheese_for_all_sizes = 1\n",
    "\n",
    "size = input('What size of pizza do you want? S, M, or L: ')\n",
    "add_pepperoni = input('Do you want pepperoni? Y or N: ')\n",
    "cheese = input('Do you want cheese? Y or N: ')\n",
    "        "
   ]
  },
  {
   "cell_type": "code",
   "execution_count": 61,
   "id": "5af89d0e",
   "metadata": {},
   "outputs": [],
   "source": [
    "bill = 0\n",
    "if size == 'S':\n",
    "    print('user wants small size pizza')\n",
    "    bill += 10\n",
    "elif size == 'M':\n",
    "    print('user wants medium size pizza')\n",
    "    bill += 15  \n",
    "else:\n",
    "    bill += 20\n",
    "    \n",
    "if add_pepperoni == 'Y':\n",
    "    if size == 'S':\n",
    "        bill += small_size_pepperoni \n",
    "   \n",
    "    else:\n",
    "        bill += medium_size_pepperoni\n",
    "\n",
    "if cheese == 'Y':\n",
    "    bill += 1 "
   ]
  },
  {
   "cell_type": "code",
   "execution_count": 62,
   "id": "c66fad65",
   "metadata": {},
   "outputs": [
    {
     "data": {
      "text/plain": [
       "24"
      ]
     },
     "execution_count": 62,
     "metadata": {},
     "output_type": "execute_result"
    }
   ],
   "source": [
    "bill"
   ]
  },
  {
   "cell_type": "code",
   "execution_count": null,
   "id": "0a734cd9",
   "metadata": {},
   "outputs": [],
   "source": []
  }
 ],
 "metadata": {
  "kernelspec": {
   "display_name": "Python 3",
   "language": "python",
   "name": "python3"
  },
  "language_info": {
   "codemirror_mode": {
    "name": "ipython",
    "version": 3
   },
   "file_extension": ".py",
   "mimetype": "text/x-python",
   "name": "python",
   "nbconvert_exporter": "python",
   "pygments_lexer": "ipython3",
   "version": "3.8.8"
  }
 },
 "nbformat": 4,
 "nbformat_minor": 5
}
